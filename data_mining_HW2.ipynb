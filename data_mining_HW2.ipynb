{
  "nbformat": 4,
  "nbformat_minor": 0,
  "metadata": {
    "colab": {
      "provenance": [],
      "include_colab_link": true
    },
    "kernelspec": {
      "name": "python3",
      "display_name": "Python 3"
    },
    "language_info": {
      "name": "python"
    }
  },
  "cells": [
    {
      "cell_type": "markdown",
      "metadata": {
        "id": "view-in-github",
        "colab_type": "text"
      },
      "source": [
        "<a href=\"https://colab.research.google.com/github/marjan-2023/data/blob/master/data_mining_HW2.ipynb\" target=\"_parent\"><img src=\"https://colab.research.google.com/assets/colab-badge.svg\" alt=\"Open In Colab\"/></a>"
      ]
    },
    {
      "cell_type": "code",
      "execution_count": 1,
      "metadata": {
        "id": "UIDALeszs_-Y"
      },
      "outputs": [],
      "source": [
        "import numpy as np\n",
        "import matplotlib.pyplot as plt\n",
        "import pandas as pd\n",
        "from sklearn.preprocessing import OrdinalEncoder, LabelEncoder\n",
        "from sklearn.model_selection import train_test_split\n",
        "from sklearn.metrics import confusion_matrix\n",
        "from sklearn.naive_bayes import CategoricalNB\n",
        "from sklearn.metrics import accuracy_score\n",
        "from sklearn import metrics\n",
        "from sklearn.metrics import roc_curve"
      ]
    },
    {
      "cell_type": "code",
      "source": [
        "data = pd.read_csv('breast-cancer (2).data')\n",
        "data.columns= ['Class', 'age', 'menopause','tumor-size','inv-nodes','node-caps','deg-malig',' breast','breast-quad',' irradiat']\n",
        "data.to_csv('breast-cancer2.data', index=False)\n",
        "data\n",
        "\n",
        "\n",
        "\n"
      ],
      "metadata": {
        "colab": {
          "base_uri": "https://localhost:8080/",
          "height": 658
        },
        "id": "9otMkfQH0O-u",
        "outputId": "a75314b7-b7e8-4d31-becf-9bf9e50bee4d"
      },
      "execution_count": 3,
      "outputs": [
        {
          "output_type": "execute_result",
          "data": {
            "text/plain": [
              "                    Class    age menopause tumor-size inv-nodes node-caps  \\\n",
              "0    no-recurrence-events  40-49   premeno      20-24       0-2        no   \n",
              "1    no-recurrence-events  40-49   premeno      20-24       0-2        no   \n",
              "2    no-recurrence-events  60-69      ge40      15-19       0-2        no   \n",
              "3    no-recurrence-events  40-49   premeno        0-4       0-2        no   \n",
              "4    no-recurrence-events  60-69      ge40      15-19       0-2        no   \n",
              "..                    ...    ...       ...        ...       ...       ...   \n",
              "280     recurrence-events  30-39   premeno      30-34       0-2        no   \n",
              "281     recurrence-events  30-39   premeno      20-24       0-2        no   \n",
              "282     recurrence-events  60-69      ge40      20-24       0-2        no   \n",
              "283     recurrence-events  40-49      ge40      30-34       3-5        no   \n",
              "284     recurrence-events  50-59      ge40      30-34       3-5        no   \n",
              "\n",
              "     deg-malig  breast breast-quad  irradiat  \n",
              "0            2   right    right_up        no  \n",
              "1            2    left    left_low        no  \n",
              "2            2   right     left_up        no  \n",
              "3            2   right   right_low        no  \n",
              "4            2    left    left_low        no  \n",
              "..         ...     ...         ...       ...  \n",
              "280          2    left     left_up        no  \n",
              "281          3    left     left_up       yes  \n",
              "282          1   right     left_up        no  \n",
              "283          3    left    left_low        no  \n",
              "284          3    left    left_low        no  \n",
              "\n",
              "[285 rows x 10 columns]"
            ],
            "text/html": [
              "\n",
              "  <div id=\"df-cacf058c-c043-4269-be5b-2660b62e8a79\">\n",
              "    <div class=\"colab-df-container\">\n",
              "      <div>\n",
              "<style scoped>\n",
              "    .dataframe tbody tr th:only-of-type {\n",
              "        vertical-align: middle;\n",
              "    }\n",
              "\n",
              "    .dataframe tbody tr th {\n",
              "        vertical-align: top;\n",
              "    }\n",
              "\n",
              "    .dataframe thead th {\n",
              "        text-align: right;\n",
              "    }\n",
              "</style>\n",
              "<table border=\"1\" class=\"dataframe\">\n",
              "  <thead>\n",
              "    <tr style=\"text-align: right;\">\n",
              "      <th></th>\n",
              "      <th>Class</th>\n",
              "      <th>age</th>\n",
              "      <th>menopause</th>\n",
              "      <th>tumor-size</th>\n",
              "      <th>inv-nodes</th>\n",
              "      <th>node-caps</th>\n",
              "      <th>deg-malig</th>\n",
              "      <th>breast</th>\n",
              "      <th>breast-quad</th>\n",
              "      <th>irradiat</th>\n",
              "    </tr>\n",
              "  </thead>\n",
              "  <tbody>\n",
              "    <tr>\n",
              "      <th>0</th>\n",
              "      <td>no-recurrence-events</td>\n",
              "      <td>40-49</td>\n",
              "      <td>premeno</td>\n",
              "      <td>20-24</td>\n",
              "      <td>0-2</td>\n",
              "      <td>no</td>\n",
              "      <td>2</td>\n",
              "      <td>right</td>\n",
              "      <td>right_up</td>\n",
              "      <td>no</td>\n",
              "    </tr>\n",
              "    <tr>\n",
              "      <th>1</th>\n",
              "      <td>no-recurrence-events</td>\n",
              "      <td>40-49</td>\n",
              "      <td>premeno</td>\n",
              "      <td>20-24</td>\n",
              "      <td>0-2</td>\n",
              "      <td>no</td>\n",
              "      <td>2</td>\n",
              "      <td>left</td>\n",
              "      <td>left_low</td>\n",
              "      <td>no</td>\n",
              "    </tr>\n",
              "    <tr>\n",
              "      <th>2</th>\n",
              "      <td>no-recurrence-events</td>\n",
              "      <td>60-69</td>\n",
              "      <td>ge40</td>\n",
              "      <td>15-19</td>\n",
              "      <td>0-2</td>\n",
              "      <td>no</td>\n",
              "      <td>2</td>\n",
              "      <td>right</td>\n",
              "      <td>left_up</td>\n",
              "      <td>no</td>\n",
              "    </tr>\n",
              "    <tr>\n",
              "      <th>3</th>\n",
              "      <td>no-recurrence-events</td>\n",
              "      <td>40-49</td>\n",
              "      <td>premeno</td>\n",
              "      <td>0-4</td>\n",
              "      <td>0-2</td>\n",
              "      <td>no</td>\n",
              "      <td>2</td>\n",
              "      <td>right</td>\n",
              "      <td>right_low</td>\n",
              "      <td>no</td>\n",
              "    </tr>\n",
              "    <tr>\n",
              "      <th>4</th>\n",
              "      <td>no-recurrence-events</td>\n",
              "      <td>60-69</td>\n",
              "      <td>ge40</td>\n",
              "      <td>15-19</td>\n",
              "      <td>0-2</td>\n",
              "      <td>no</td>\n",
              "      <td>2</td>\n",
              "      <td>left</td>\n",
              "      <td>left_low</td>\n",
              "      <td>no</td>\n",
              "    </tr>\n",
              "    <tr>\n",
              "      <th>...</th>\n",
              "      <td>...</td>\n",
              "      <td>...</td>\n",
              "      <td>...</td>\n",
              "      <td>...</td>\n",
              "      <td>...</td>\n",
              "      <td>...</td>\n",
              "      <td>...</td>\n",
              "      <td>...</td>\n",
              "      <td>...</td>\n",
              "      <td>...</td>\n",
              "    </tr>\n",
              "    <tr>\n",
              "      <th>280</th>\n",
              "      <td>recurrence-events</td>\n",
              "      <td>30-39</td>\n",
              "      <td>premeno</td>\n",
              "      <td>30-34</td>\n",
              "      <td>0-2</td>\n",
              "      <td>no</td>\n",
              "      <td>2</td>\n",
              "      <td>left</td>\n",
              "      <td>left_up</td>\n",
              "      <td>no</td>\n",
              "    </tr>\n",
              "    <tr>\n",
              "      <th>281</th>\n",
              "      <td>recurrence-events</td>\n",
              "      <td>30-39</td>\n",
              "      <td>premeno</td>\n",
              "      <td>20-24</td>\n",
              "      <td>0-2</td>\n",
              "      <td>no</td>\n",
              "      <td>3</td>\n",
              "      <td>left</td>\n",
              "      <td>left_up</td>\n",
              "      <td>yes</td>\n",
              "    </tr>\n",
              "    <tr>\n",
              "      <th>282</th>\n",
              "      <td>recurrence-events</td>\n",
              "      <td>60-69</td>\n",
              "      <td>ge40</td>\n",
              "      <td>20-24</td>\n",
              "      <td>0-2</td>\n",
              "      <td>no</td>\n",
              "      <td>1</td>\n",
              "      <td>right</td>\n",
              "      <td>left_up</td>\n",
              "      <td>no</td>\n",
              "    </tr>\n",
              "    <tr>\n",
              "      <th>283</th>\n",
              "      <td>recurrence-events</td>\n",
              "      <td>40-49</td>\n",
              "      <td>ge40</td>\n",
              "      <td>30-34</td>\n",
              "      <td>3-5</td>\n",
              "      <td>no</td>\n",
              "      <td>3</td>\n",
              "      <td>left</td>\n",
              "      <td>left_low</td>\n",
              "      <td>no</td>\n",
              "    </tr>\n",
              "    <tr>\n",
              "      <th>284</th>\n",
              "      <td>recurrence-events</td>\n",
              "      <td>50-59</td>\n",
              "      <td>ge40</td>\n",
              "      <td>30-34</td>\n",
              "      <td>3-5</td>\n",
              "      <td>no</td>\n",
              "      <td>3</td>\n",
              "      <td>left</td>\n",
              "      <td>left_low</td>\n",
              "      <td>no</td>\n",
              "    </tr>\n",
              "  </tbody>\n",
              "</table>\n",
              "<p>285 rows × 10 columns</p>\n",
              "</div>\n",
              "      <button class=\"colab-df-convert\" onclick=\"convertToInteractive('df-cacf058c-c043-4269-be5b-2660b62e8a79')\"\n",
              "              title=\"Convert this dataframe to an interactive table.\"\n",
              "              style=\"display:none;\">\n",
              "        \n",
              "  <svg xmlns=\"http://www.w3.org/2000/svg\" height=\"24px\"viewBox=\"0 0 24 24\"\n",
              "       width=\"24px\">\n",
              "    <path d=\"M0 0h24v24H0V0z\" fill=\"none\"/>\n",
              "    <path d=\"M18.56 5.44l.94 2.06.94-2.06 2.06-.94-2.06-.94-.94-2.06-.94 2.06-2.06.94zm-11 1L8.5 8.5l.94-2.06 2.06-.94-2.06-.94L8.5 2.5l-.94 2.06-2.06.94zm10 10l.94 2.06.94-2.06 2.06-.94-2.06-.94-.94-2.06-.94 2.06-2.06.94z\"/><path d=\"M17.41 7.96l-1.37-1.37c-.4-.4-.92-.59-1.43-.59-.52 0-1.04.2-1.43.59L10.3 9.45l-7.72 7.72c-.78.78-.78 2.05 0 2.83L4 21.41c.39.39.9.59 1.41.59.51 0 1.02-.2 1.41-.59l7.78-7.78 2.81-2.81c.8-.78.8-2.07 0-2.86zM5.41 20L4 18.59l7.72-7.72 1.47 1.35L5.41 20z\"/>\n",
              "  </svg>\n",
              "      </button>\n",
              "      \n",
              "  <style>\n",
              "    .colab-df-container {\n",
              "      display:flex;\n",
              "      flex-wrap:wrap;\n",
              "      gap: 12px;\n",
              "    }\n",
              "\n",
              "    .colab-df-convert {\n",
              "      background-color: #E8F0FE;\n",
              "      border: none;\n",
              "      border-radius: 50%;\n",
              "      cursor: pointer;\n",
              "      display: none;\n",
              "      fill: #1967D2;\n",
              "      height: 32px;\n",
              "      padding: 0 0 0 0;\n",
              "      width: 32px;\n",
              "    }\n",
              "\n",
              "    .colab-df-convert:hover {\n",
              "      background-color: #E2EBFA;\n",
              "      box-shadow: 0px 1px 2px rgba(60, 64, 67, 0.3), 0px 1px 3px 1px rgba(60, 64, 67, 0.15);\n",
              "      fill: #174EA6;\n",
              "    }\n",
              "\n",
              "    [theme=dark] .colab-df-convert {\n",
              "      background-color: #3B4455;\n",
              "      fill: #D2E3FC;\n",
              "    }\n",
              "\n",
              "    [theme=dark] .colab-df-convert:hover {\n",
              "      background-color: #434B5C;\n",
              "      box-shadow: 0px 1px 3px 1px rgba(0, 0, 0, 0.15);\n",
              "      filter: drop-shadow(0px 1px 2px rgba(0, 0, 0, 0.3));\n",
              "      fill: #FFFFFF;\n",
              "    }\n",
              "  </style>\n",
              "\n",
              "      <script>\n",
              "        const buttonEl =\n",
              "          document.querySelector('#df-cacf058c-c043-4269-be5b-2660b62e8a79 button.colab-df-convert');\n",
              "        buttonEl.style.display =\n",
              "          google.colab.kernel.accessAllowed ? 'block' : 'none';\n",
              "\n",
              "        async function convertToInteractive(key) {\n",
              "          const element = document.querySelector('#df-cacf058c-c043-4269-be5b-2660b62e8a79');\n",
              "          const dataTable =\n",
              "            await google.colab.kernel.invokeFunction('convertToInteractive',\n",
              "                                                     [key], {});\n",
              "          if (!dataTable) return;\n",
              "\n",
              "          const docLinkHtml = 'Like what you see? Visit the ' +\n",
              "            '<a target=\"_blank\" href=https://colab.research.google.com/notebooks/data_table.ipynb>data table notebook</a>'\n",
              "            + ' to learn more about interactive tables.';\n",
              "          element.innerHTML = '';\n",
              "          dataTable['output_type'] = 'display_data';\n",
              "          await google.colab.output.renderOutput(dataTable, element);\n",
              "          const docLink = document.createElement('div');\n",
              "          docLink.innerHTML = docLinkHtml;\n",
              "          element.appendChild(docLink);\n",
              "        }\n",
              "      </script>\n",
              "    </div>\n",
              "  </div>\n",
              "  "
            ]
          },
          "metadata": {},
          "execution_count": 3
        }
      ]
    },
    {
      "cell_type": "code",
      "source": [
        "df=data\n",
        "df.shape"
      ],
      "metadata": {
        "colab": {
          "base_uri": "https://localhost:8080/"
        },
        "id": "evP2QsHaGagq",
        "outputId": "36e7a083-e390-41b0-e669-5ce910ffb075"
      },
      "execution_count": 4,
      "outputs": [
        {
          "output_type": "execute_result",
          "data": {
            "text/plain": [
              "(285, 10)"
            ]
          },
          "metadata": {},
          "execution_count": 4
        }
      ]
    },
    {
      "cell_type": "code",
      "source": [
        "df.describe(include='all').T"
      ],
      "metadata": {
        "colab": {
          "base_uri": "https://localhost:8080/",
          "height": 363
        },
        "id": "Jg0-t0izGoNr",
        "outputId": "f608e713-4d86-46f0-c27f-40c8da278ae2"
      },
      "execution_count": 5,
      "outputs": [
        {
          "output_type": "execute_result",
          "data": {
            "text/plain": [
              "             count unique                   top freq      mean       std  min  \\\n",
              "Class          285      2  no-recurrence-events  200       NaN       NaN  NaN   \n",
              "age            285      6                 50-59   96       NaN       NaN  NaN   \n",
              "menopause      285      3               premeno  149       NaN       NaN  NaN   \n",
              "tumor-size     285     11                 30-34   59       NaN       NaN  NaN   \n",
              "inv-nodes      285      7                   0-2  212       NaN       NaN  NaN   \n",
              "node-caps      285      3                    no  221       NaN       NaN  NaN   \n",
              "deg-malig    285.0    NaN                   NaN  NaN  2.045614  0.737351  1.0   \n",
              " breast        285      2                  left  151       NaN       NaN  NaN   \n",
              "breast-quad    285      6              left_low  109       NaN       NaN  NaN   \n",
              " irradiat      285      2                    no  217       NaN       NaN  NaN   \n",
              "\n",
              "             25%  50%  75%  max  \n",
              "Class        NaN  NaN  NaN  NaN  \n",
              "age          NaN  NaN  NaN  NaN  \n",
              "menopause    NaN  NaN  NaN  NaN  \n",
              "tumor-size   NaN  NaN  NaN  NaN  \n",
              "inv-nodes    NaN  NaN  NaN  NaN  \n",
              "node-caps    NaN  NaN  NaN  NaN  \n",
              "deg-malig    2.0  2.0  3.0  3.0  \n",
              " breast      NaN  NaN  NaN  NaN  \n",
              "breast-quad  NaN  NaN  NaN  NaN  \n",
              " irradiat    NaN  NaN  NaN  NaN  "
            ],
            "text/html": [
              "\n",
              "  <div id=\"df-15cf5665-30bb-47b5-b61f-cfd3280c5998\">\n",
              "    <div class=\"colab-df-container\">\n",
              "      <div>\n",
              "<style scoped>\n",
              "    .dataframe tbody tr th:only-of-type {\n",
              "        vertical-align: middle;\n",
              "    }\n",
              "\n",
              "    .dataframe tbody tr th {\n",
              "        vertical-align: top;\n",
              "    }\n",
              "\n",
              "    .dataframe thead th {\n",
              "        text-align: right;\n",
              "    }\n",
              "</style>\n",
              "<table border=\"1\" class=\"dataframe\">\n",
              "  <thead>\n",
              "    <tr style=\"text-align: right;\">\n",
              "      <th></th>\n",
              "      <th>count</th>\n",
              "      <th>unique</th>\n",
              "      <th>top</th>\n",
              "      <th>freq</th>\n",
              "      <th>mean</th>\n",
              "      <th>std</th>\n",
              "      <th>min</th>\n",
              "      <th>25%</th>\n",
              "      <th>50%</th>\n",
              "      <th>75%</th>\n",
              "      <th>max</th>\n",
              "    </tr>\n",
              "  </thead>\n",
              "  <tbody>\n",
              "    <tr>\n",
              "      <th>Class</th>\n",
              "      <td>285</td>\n",
              "      <td>2</td>\n",
              "      <td>no-recurrence-events</td>\n",
              "      <td>200</td>\n",
              "      <td>NaN</td>\n",
              "      <td>NaN</td>\n",
              "      <td>NaN</td>\n",
              "      <td>NaN</td>\n",
              "      <td>NaN</td>\n",
              "      <td>NaN</td>\n",
              "      <td>NaN</td>\n",
              "    </tr>\n",
              "    <tr>\n",
              "      <th>age</th>\n",
              "      <td>285</td>\n",
              "      <td>6</td>\n",
              "      <td>50-59</td>\n",
              "      <td>96</td>\n",
              "      <td>NaN</td>\n",
              "      <td>NaN</td>\n",
              "      <td>NaN</td>\n",
              "      <td>NaN</td>\n",
              "      <td>NaN</td>\n",
              "      <td>NaN</td>\n",
              "      <td>NaN</td>\n",
              "    </tr>\n",
              "    <tr>\n",
              "      <th>menopause</th>\n",
              "      <td>285</td>\n",
              "      <td>3</td>\n",
              "      <td>premeno</td>\n",
              "      <td>149</td>\n",
              "      <td>NaN</td>\n",
              "      <td>NaN</td>\n",
              "      <td>NaN</td>\n",
              "      <td>NaN</td>\n",
              "      <td>NaN</td>\n",
              "      <td>NaN</td>\n",
              "      <td>NaN</td>\n",
              "    </tr>\n",
              "    <tr>\n",
              "      <th>tumor-size</th>\n",
              "      <td>285</td>\n",
              "      <td>11</td>\n",
              "      <td>30-34</td>\n",
              "      <td>59</td>\n",
              "      <td>NaN</td>\n",
              "      <td>NaN</td>\n",
              "      <td>NaN</td>\n",
              "      <td>NaN</td>\n",
              "      <td>NaN</td>\n",
              "      <td>NaN</td>\n",
              "      <td>NaN</td>\n",
              "    </tr>\n",
              "    <tr>\n",
              "      <th>inv-nodes</th>\n",
              "      <td>285</td>\n",
              "      <td>7</td>\n",
              "      <td>0-2</td>\n",
              "      <td>212</td>\n",
              "      <td>NaN</td>\n",
              "      <td>NaN</td>\n",
              "      <td>NaN</td>\n",
              "      <td>NaN</td>\n",
              "      <td>NaN</td>\n",
              "      <td>NaN</td>\n",
              "      <td>NaN</td>\n",
              "    </tr>\n",
              "    <tr>\n",
              "      <th>node-caps</th>\n",
              "      <td>285</td>\n",
              "      <td>3</td>\n",
              "      <td>no</td>\n",
              "      <td>221</td>\n",
              "      <td>NaN</td>\n",
              "      <td>NaN</td>\n",
              "      <td>NaN</td>\n",
              "      <td>NaN</td>\n",
              "      <td>NaN</td>\n",
              "      <td>NaN</td>\n",
              "      <td>NaN</td>\n",
              "    </tr>\n",
              "    <tr>\n",
              "      <th>deg-malig</th>\n",
              "      <td>285.0</td>\n",
              "      <td>NaN</td>\n",
              "      <td>NaN</td>\n",
              "      <td>NaN</td>\n",
              "      <td>2.045614</td>\n",
              "      <td>0.737351</td>\n",
              "      <td>1.0</td>\n",
              "      <td>2.0</td>\n",
              "      <td>2.0</td>\n",
              "      <td>3.0</td>\n",
              "      <td>3.0</td>\n",
              "    </tr>\n",
              "    <tr>\n",
              "      <th>breast</th>\n",
              "      <td>285</td>\n",
              "      <td>2</td>\n",
              "      <td>left</td>\n",
              "      <td>151</td>\n",
              "      <td>NaN</td>\n",
              "      <td>NaN</td>\n",
              "      <td>NaN</td>\n",
              "      <td>NaN</td>\n",
              "      <td>NaN</td>\n",
              "      <td>NaN</td>\n",
              "      <td>NaN</td>\n",
              "    </tr>\n",
              "    <tr>\n",
              "      <th>breast-quad</th>\n",
              "      <td>285</td>\n",
              "      <td>6</td>\n",
              "      <td>left_low</td>\n",
              "      <td>109</td>\n",
              "      <td>NaN</td>\n",
              "      <td>NaN</td>\n",
              "      <td>NaN</td>\n",
              "      <td>NaN</td>\n",
              "      <td>NaN</td>\n",
              "      <td>NaN</td>\n",
              "      <td>NaN</td>\n",
              "    </tr>\n",
              "    <tr>\n",
              "      <th>irradiat</th>\n",
              "      <td>285</td>\n",
              "      <td>2</td>\n",
              "      <td>no</td>\n",
              "      <td>217</td>\n",
              "      <td>NaN</td>\n",
              "      <td>NaN</td>\n",
              "      <td>NaN</td>\n",
              "      <td>NaN</td>\n",
              "      <td>NaN</td>\n",
              "      <td>NaN</td>\n",
              "      <td>NaN</td>\n",
              "    </tr>\n",
              "  </tbody>\n",
              "</table>\n",
              "</div>\n",
              "      <button class=\"colab-df-convert\" onclick=\"convertToInteractive('df-15cf5665-30bb-47b5-b61f-cfd3280c5998')\"\n",
              "              title=\"Convert this dataframe to an interactive table.\"\n",
              "              style=\"display:none;\">\n",
              "        \n",
              "  <svg xmlns=\"http://www.w3.org/2000/svg\" height=\"24px\"viewBox=\"0 0 24 24\"\n",
              "       width=\"24px\">\n",
              "    <path d=\"M0 0h24v24H0V0z\" fill=\"none\"/>\n",
              "    <path d=\"M18.56 5.44l.94 2.06.94-2.06 2.06-.94-2.06-.94-.94-2.06-.94 2.06-2.06.94zm-11 1L8.5 8.5l.94-2.06 2.06-.94-2.06-.94L8.5 2.5l-.94 2.06-2.06.94zm10 10l.94 2.06.94-2.06 2.06-.94-2.06-.94-.94-2.06-.94 2.06-2.06.94z\"/><path d=\"M17.41 7.96l-1.37-1.37c-.4-.4-.92-.59-1.43-.59-.52 0-1.04.2-1.43.59L10.3 9.45l-7.72 7.72c-.78.78-.78 2.05 0 2.83L4 21.41c.39.39.9.59 1.41.59.51 0 1.02-.2 1.41-.59l7.78-7.78 2.81-2.81c.8-.78.8-2.07 0-2.86zM5.41 20L4 18.59l7.72-7.72 1.47 1.35L5.41 20z\"/>\n",
              "  </svg>\n",
              "      </button>\n",
              "      \n",
              "  <style>\n",
              "    .colab-df-container {\n",
              "      display:flex;\n",
              "      flex-wrap:wrap;\n",
              "      gap: 12px;\n",
              "    }\n",
              "\n",
              "    .colab-df-convert {\n",
              "      background-color: #E8F0FE;\n",
              "      border: none;\n",
              "      border-radius: 50%;\n",
              "      cursor: pointer;\n",
              "      display: none;\n",
              "      fill: #1967D2;\n",
              "      height: 32px;\n",
              "      padding: 0 0 0 0;\n",
              "      width: 32px;\n",
              "    }\n",
              "\n",
              "    .colab-df-convert:hover {\n",
              "      background-color: #E2EBFA;\n",
              "      box-shadow: 0px 1px 2px rgba(60, 64, 67, 0.3), 0px 1px 3px 1px rgba(60, 64, 67, 0.15);\n",
              "      fill: #174EA6;\n",
              "    }\n",
              "\n",
              "    [theme=dark] .colab-df-convert {\n",
              "      background-color: #3B4455;\n",
              "      fill: #D2E3FC;\n",
              "    }\n",
              "\n",
              "    [theme=dark] .colab-df-convert:hover {\n",
              "      background-color: #434B5C;\n",
              "      box-shadow: 0px 1px 3px 1px rgba(0, 0, 0, 0.15);\n",
              "      filter: drop-shadow(0px 1px 2px rgba(0, 0, 0, 0.3));\n",
              "      fill: #FFFFFF;\n",
              "    }\n",
              "  </style>\n",
              "\n",
              "      <script>\n",
              "        const buttonEl =\n",
              "          document.querySelector('#df-15cf5665-30bb-47b5-b61f-cfd3280c5998 button.colab-df-convert');\n",
              "        buttonEl.style.display =\n",
              "          google.colab.kernel.accessAllowed ? 'block' : 'none';\n",
              "\n",
              "        async function convertToInteractive(key) {\n",
              "          const element = document.querySelector('#df-15cf5665-30bb-47b5-b61f-cfd3280c5998');\n",
              "          const dataTable =\n",
              "            await google.colab.kernel.invokeFunction('convertToInteractive',\n",
              "                                                     [key], {});\n",
              "          if (!dataTable) return;\n",
              "\n",
              "          const docLinkHtml = 'Like what you see? Visit the ' +\n",
              "            '<a target=\"_blank\" href=https://colab.research.google.com/notebooks/data_table.ipynb>data table notebook</a>'\n",
              "            + ' to learn more about interactive tables.';\n",
              "          element.innerHTML = '';\n",
              "          dataTable['output_type'] = 'display_data';\n",
              "          await google.colab.output.renderOutput(dataTable, element);\n",
              "          const docLink = document.createElement('div');\n",
              "          docLink.innerHTML = docLinkHtml;\n",
              "          element.appendChild(docLink);\n",
              "        }\n",
              "      </script>\n",
              "    </div>\n",
              "  </div>\n",
              "  "
            ]
          },
          "metadata": {},
          "execution_count": 5
        }
      ]
    },
    {
      "cell_type": "code",
      "source": [
        "df.isnull().sum()\n",
        "#No missing data but we have some with ? mark"
      ],
      "metadata": {
        "colab": {
          "base_uri": "https://localhost:8080/"
        },
        "id": "uBknq8knIHMb",
        "outputId": "9bea6305-db58-4f92-e227-bffb2eb4ddf7"
      },
      "execution_count": null,
      "outputs": [
        {
          "output_type": "execute_result",
          "data": {
            "text/plain": [
              "Class          0\n",
              "age            0\n",
              "menopause      0\n",
              "tumor-size     0\n",
              "inv-nodes      0\n",
              "node-caps      0\n",
              "deg-malig      0\n",
              " breast        0\n",
              "breast-quad    0\n",
              " irradiat      0\n",
              "dtype: int64"
            ]
          },
          "metadata": {},
          "execution_count": 7
        }
      ]
    },
    {
      "cell_type": "code",
      "source": [
        "print(df[\"Class\"].unique())\n",
        "print(type(df[\"Class\"].unique()))\n",
        "\n",
        "\n",
        "print(df[\"age\"].unique())\n",
        "print(type(df[\"age\"].unique()))\n",
        "\n",
        "print(df[\"menopause\"].unique())\n",
        "print(type(df[\"menopause\"].unique()))\n",
        "\n",
        "print(df[\"tumor-size\"].unique())\n",
        "print(type(df[\"tumor-size\"].unique()))\n",
        "\n",
        "print(df[\"inv-nodes\"].unique())\n",
        "print(type(df[\"inv-nodes\"].unique()))\n",
        "\n",
        "print(df[\"node-caps\"].unique())\n",
        "print(type(df[\"node-caps\"].unique()))\n",
        "\n",
        "print(df[\"deg-malig\"].unique())\n",
        "print(type(df[\"deg-malig\"].unique()))\n",
        "\n",
        "#print(df[\"breast\"].unique())\n",
        "#print(type(df[\"breast\"].unique()))\n",
        "\n",
        "print(df[\"breast-quad\"].unique())\n",
        "print(type(df[\"breast-quad\"].unique()))\n",
        "\n",
        "#print(df[\"irradiat\"].unique())\n",
        "#print(type(df[\"irradiat\"].unique()))\n",
        "\n",
        "\n"
      ],
      "metadata": {
        "colab": {
          "base_uri": "https://localhost:8080/"
        },
        "id": "5lfRMY_oP7DJ",
        "outputId": "095ef77a-4271-49f0-acd3-1ce18150c30a"
      },
      "execution_count": 6,
      "outputs": [
        {
          "output_type": "stream",
          "name": "stdout",
          "text": [
            "['no-recurrence-events' 'recurrence-events']\n",
            "<class 'numpy.ndarray'>\n",
            "['40-49' '60-69' '50-59' '30-39' '70-79' '20-29']\n",
            "<class 'numpy.ndarray'>\n",
            "['premeno' 'ge40' 'lt40']\n",
            "<class 'numpy.ndarray'>\n",
            "['20-24' '15-19' '0-4' '25-29' '50-54' '10-14' '30-34' '40-44' '35-39'\n",
            " '5-9' '45-49']\n",
            "<class 'numpy.ndarray'>\n",
            "['0-2' '6-8' '9-11' '3-5' '15-17' '12-14' '24-26']\n",
            "<class 'numpy.ndarray'>\n",
            "['no' 'yes' '?']\n",
            "<class 'numpy.ndarray'>\n",
            "[2 1 3]\n",
            "<class 'numpy.ndarray'>\n",
            "['right_up' 'left_low' 'left_up' 'right_low' 'central' '?']\n",
            "<class 'numpy.ndarray'>\n"
          ]
        }
      ]
    },
    {
      "cell_type": "code",
      "source": [
        "uniqueValues = df.nunique()\n",
        "print(uniqueValues)"
      ],
      "metadata": {
        "colab": {
          "base_uri": "https://localhost:8080/"
        },
        "id": "PsqVTZCnSpTm",
        "outputId": "4a2574c0-4beb-491a-bd52-1222d2fa4a3c"
      },
      "execution_count": 7,
      "outputs": [
        {
          "output_type": "stream",
          "name": "stdout",
          "text": [
            "Class           2\n",
            "age             6\n",
            "menopause       3\n",
            "tumor-size     11\n",
            "inv-nodes       7\n",
            "node-caps       3\n",
            "deg-malig       3\n",
            " breast         2\n",
            "breast-quad     6\n",
            " irradiat       2\n",
            "dtype: int64\n"
          ]
        }
      ]
    },
    {
      "cell_type": "code",
      "source": [
        "data.info"
      ],
      "metadata": {
        "colab": {
          "base_uri": "https://localhost:8080/"
        },
        "id": "6dZEX9UaaH8y",
        "outputId": "ec08a02e-38f2-4979-91b9-d65da1b67b25"
      },
      "execution_count": 8,
      "outputs": [
        {
          "output_type": "execute_result",
          "data": {
            "text/plain": [
              "<bound method DataFrame.info of                     Class    age menopause tumor-size inv-nodes node-caps  \\\n",
              "0    no-recurrence-events  40-49   premeno      20-24       0-2        no   \n",
              "1    no-recurrence-events  40-49   premeno      20-24       0-2        no   \n",
              "2    no-recurrence-events  60-69      ge40      15-19       0-2        no   \n",
              "3    no-recurrence-events  40-49   premeno        0-4       0-2        no   \n",
              "4    no-recurrence-events  60-69      ge40      15-19       0-2        no   \n",
              "..                    ...    ...       ...        ...       ...       ...   \n",
              "280     recurrence-events  30-39   premeno      30-34       0-2        no   \n",
              "281     recurrence-events  30-39   premeno      20-24       0-2        no   \n",
              "282     recurrence-events  60-69      ge40      20-24       0-2        no   \n",
              "283     recurrence-events  40-49      ge40      30-34       3-5        no   \n",
              "284     recurrence-events  50-59      ge40      30-34       3-5        no   \n",
              "\n",
              "     deg-malig  breast breast-quad  irradiat  \n",
              "0            2   right    right_up        no  \n",
              "1            2    left    left_low        no  \n",
              "2            2   right     left_up        no  \n",
              "3            2   right   right_low        no  \n",
              "4            2    left    left_low        no  \n",
              "..         ...     ...         ...       ...  \n",
              "280          2    left     left_up        no  \n",
              "281          3    left     left_up       yes  \n",
              "282          1   right     left_up        no  \n",
              "283          3    left    left_low        no  \n",
              "284          3    left    left_low        no  \n",
              "\n",
              "[285 rows x 10 columns]>"
            ]
          },
          "metadata": {},
          "execution_count": 8
        }
      ]
    },
    {
      "cell_type": "code",
      "source": [
        "df.replace(\"?\", np.nan, inplace=True)\n",
        "df.dropna(inplace=True)\n",
        "df.reset_index(drop=True, inplace=True)"
      ],
      "metadata": {
        "id": "uqb6hnr96Tor"
      },
      "execution_count": 9,
      "outputs": []
    },
    {
      "cell_type": "code",
      "source": [
        "df.shape"
      ],
      "metadata": {
        "colab": {
          "base_uri": "https://localhost:8080/"
        },
        "id": "r_dM_RrK7CgH",
        "outputId": "a0a19ac8-a9ee-4cb0-cbb8-2941baa63df7"
      },
      "execution_count": 10,
      "outputs": [
        {
          "output_type": "execute_result",
          "data": {
            "text/plain": [
              "(276, 10)"
            ]
          },
          "metadata": {},
          "execution_count": 10
        }
      ]
    },
    {
      "cell_type": "code",
      "source": [
        "target_df = df['Class']\n",
        "features_df = df.drop(columns='Class')\n",
        "features_df = pd.get_dummies(features_df)\n",
        "\n",
        "target_df.head()\n",
        "features_df.head()"
      ],
      "metadata": {
        "colab": {
          "base_uri": "https://localhost:8080/",
          "height": 317
        },
        "id": "b9vY23-PKDLs",
        "outputId": "13f63a3a-eeec-40da-984b-bee8c030f247"
      },
      "execution_count": 11,
      "outputs": [
        {
          "output_type": "execute_result",
          "data": {
            "text/plain": [
              "   deg-malig  age_20-29  age_30-39  age_40-49  age_50-59  age_60-69  \\\n",
              "0          2          0          0          1          0          0   \n",
              "1          2          0          0          1          0          0   \n",
              "2          2          0          0          0          0          1   \n",
              "3          2          0          0          1          0          0   \n",
              "4          2          0          0          0          0          1   \n",
              "\n",
              "   age_70-79  menopause_ge40  menopause_lt40  menopause_premeno  ...  \\\n",
              "0          0               0               0                  1  ...   \n",
              "1          0               0               0                  1  ...   \n",
              "2          0               1               0                  0  ...   \n",
              "3          0               0               0                  1  ...   \n",
              "4          0               1               0                  0  ...   \n",
              "\n",
              "   node-caps_yes   breast_left   breast_right  breast-quad_central  \\\n",
              "0              0             0              1                    0   \n",
              "1              0             1              0                    0   \n",
              "2              0             0              1                    0   \n",
              "3              0             0              1                    0   \n",
              "4              0             1              0                    0   \n",
              "\n",
              "   breast-quad_left_low  breast-quad_left_up  breast-quad_right_low  \\\n",
              "0                     0                    0                      0   \n",
              "1                     1                    0                      0   \n",
              "2                     0                    1                      0   \n",
              "3                     0                    0                      1   \n",
              "4                     1                    0                      0   \n",
              "\n",
              "   breast-quad_right_up   irradiat_no   irradiat_yes  \n",
              "0                     1             1              0  \n",
              "1                     0             1              0  \n",
              "2                     0             1              0  \n",
              "3                     0             1              0  \n",
              "4                     0             1              0  \n",
              "\n",
              "[5 rows x 39 columns]"
            ],
            "text/html": [
              "\n",
              "  <div id=\"df-2bee2c24-4f82-4ff4-86e5-23d0fe9bb057\">\n",
              "    <div class=\"colab-df-container\">\n",
              "      <div>\n",
              "<style scoped>\n",
              "    .dataframe tbody tr th:only-of-type {\n",
              "        vertical-align: middle;\n",
              "    }\n",
              "\n",
              "    .dataframe tbody tr th {\n",
              "        vertical-align: top;\n",
              "    }\n",
              "\n",
              "    .dataframe thead th {\n",
              "        text-align: right;\n",
              "    }\n",
              "</style>\n",
              "<table border=\"1\" class=\"dataframe\">\n",
              "  <thead>\n",
              "    <tr style=\"text-align: right;\">\n",
              "      <th></th>\n",
              "      <th>deg-malig</th>\n",
              "      <th>age_20-29</th>\n",
              "      <th>age_30-39</th>\n",
              "      <th>age_40-49</th>\n",
              "      <th>age_50-59</th>\n",
              "      <th>age_60-69</th>\n",
              "      <th>age_70-79</th>\n",
              "      <th>menopause_ge40</th>\n",
              "      <th>menopause_lt40</th>\n",
              "      <th>menopause_premeno</th>\n",
              "      <th>...</th>\n",
              "      <th>node-caps_yes</th>\n",
              "      <th>breast_left</th>\n",
              "      <th>breast_right</th>\n",
              "      <th>breast-quad_central</th>\n",
              "      <th>breast-quad_left_low</th>\n",
              "      <th>breast-quad_left_up</th>\n",
              "      <th>breast-quad_right_low</th>\n",
              "      <th>breast-quad_right_up</th>\n",
              "      <th>irradiat_no</th>\n",
              "      <th>irradiat_yes</th>\n",
              "    </tr>\n",
              "  </thead>\n",
              "  <tbody>\n",
              "    <tr>\n",
              "      <th>0</th>\n",
              "      <td>2</td>\n",
              "      <td>0</td>\n",
              "      <td>0</td>\n",
              "      <td>1</td>\n",
              "      <td>0</td>\n",
              "      <td>0</td>\n",
              "      <td>0</td>\n",
              "      <td>0</td>\n",
              "      <td>0</td>\n",
              "      <td>1</td>\n",
              "      <td>...</td>\n",
              "      <td>0</td>\n",
              "      <td>0</td>\n",
              "      <td>1</td>\n",
              "      <td>0</td>\n",
              "      <td>0</td>\n",
              "      <td>0</td>\n",
              "      <td>0</td>\n",
              "      <td>1</td>\n",
              "      <td>1</td>\n",
              "      <td>0</td>\n",
              "    </tr>\n",
              "    <tr>\n",
              "      <th>1</th>\n",
              "      <td>2</td>\n",
              "      <td>0</td>\n",
              "      <td>0</td>\n",
              "      <td>1</td>\n",
              "      <td>0</td>\n",
              "      <td>0</td>\n",
              "      <td>0</td>\n",
              "      <td>0</td>\n",
              "      <td>0</td>\n",
              "      <td>1</td>\n",
              "      <td>...</td>\n",
              "      <td>0</td>\n",
              "      <td>1</td>\n",
              "      <td>0</td>\n",
              "      <td>0</td>\n",
              "      <td>1</td>\n",
              "      <td>0</td>\n",
              "      <td>0</td>\n",
              "      <td>0</td>\n",
              "      <td>1</td>\n",
              "      <td>0</td>\n",
              "    </tr>\n",
              "    <tr>\n",
              "      <th>2</th>\n",
              "      <td>2</td>\n",
              "      <td>0</td>\n",
              "      <td>0</td>\n",
              "      <td>0</td>\n",
              "      <td>0</td>\n",
              "      <td>1</td>\n",
              "      <td>0</td>\n",
              "      <td>1</td>\n",
              "      <td>0</td>\n",
              "      <td>0</td>\n",
              "      <td>...</td>\n",
              "      <td>0</td>\n",
              "      <td>0</td>\n",
              "      <td>1</td>\n",
              "      <td>0</td>\n",
              "      <td>0</td>\n",
              "      <td>1</td>\n",
              "      <td>0</td>\n",
              "      <td>0</td>\n",
              "      <td>1</td>\n",
              "      <td>0</td>\n",
              "    </tr>\n",
              "    <tr>\n",
              "      <th>3</th>\n",
              "      <td>2</td>\n",
              "      <td>0</td>\n",
              "      <td>0</td>\n",
              "      <td>1</td>\n",
              "      <td>0</td>\n",
              "      <td>0</td>\n",
              "      <td>0</td>\n",
              "      <td>0</td>\n",
              "      <td>0</td>\n",
              "      <td>1</td>\n",
              "      <td>...</td>\n",
              "      <td>0</td>\n",
              "      <td>0</td>\n",
              "      <td>1</td>\n",
              "      <td>0</td>\n",
              "      <td>0</td>\n",
              "      <td>0</td>\n",
              "      <td>1</td>\n",
              "      <td>0</td>\n",
              "      <td>1</td>\n",
              "      <td>0</td>\n",
              "    </tr>\n",
              "    <tr>\n",
              "      <th>4</th>\n",
              "      <td>2</td>\n",
              "      <td>0</td>\n",
              "      <td>0</td>\n",
              "      <td>0</td>\n",
              "      <td>0</td>\n",
              "      <td>1</td>\n",
              "      <td>0</td>\n",
              "      <td>1</td>\n",
              "      <td>0</td>\n",
              "      <td>0</td>\n",
              "      <td>...</td>\n",
              "      <td>0</td>\n",
              "      <td>1</td>\n",
              "      <td>0</td>\n",
              "      <td>0</td>\n",
              "      <td>1</td>\n",
              "      <td>0</td>\n",
              "      <td>0</td>\n",
              "      <td>0</td>\n",
              "      <td>1</td>\n",
              "      <td>0</td>\n",
              "    </tr>\n",
              "  </tbody>\n",
              "</table>\n",
              "<p>5 rows × 39 columns</p>\n",
              "</div>\n",
              "      <button class=\"colab-df-convert\" onclick=\"convertToInteractive('df-2bee2c24-4f82-4ff4-86e5-23d0fe9bb057')\"\n",
              "              title=\"Convert this dataframe to an interactive table.\"\n",
              "              style=\"display:none;\">\n",
              "        \n",
              "  <svg xmlns=\"http://www.w3.org/2000/svg\" height=\"24px\"viewBox=\"0 0 24 24\"\n",
              "       width=\"24px\">\n",
              "    <path d=\"M0 0h24v24H0V0z\" fill=\"none\"/>\n",
              "    <path d=\"M18.56 5.44l.94 2.06.94-2.06 2.06-.94-2.06-.94-.94-2.06-.94 2.06-2.06.94zm-11 1L8.5 8.5l.94-2.06 2.06-.94-2.06-.94L8.5 2.5l-.94 2.06-2.06.94zm10 10l.94 2.06.94-2.06 2.06-.94-2.06-.94-.94-2.06-.94 2.06-2.06.94z\"/><path d=\"M17.41 7.96l-1.37-1.37c-.4-.4-.92-.59-1.43-.59-.52 0-1.04.2-1.43.59L10.3 9.45l-7.72 7.72c-.78.78-.78 2.05 0 2.83L4 21.41c.39.39.9.59 1.41.59.51 0 1.02-.2 1.41-.59l7.78-7.78 2.81-2.81c.8-.78.8-2.07 0-2.86zM5.41 20L4 18.59l7.72-7.72 1.47 1.35L5.41 20z\"/>\n",
              "  </svg>\n",
              "      </button>\n",
              "      \n",
              "  <style>\n",
              "    .colab-df-container {\n",
              "      display:flex;\n",
              "      flex-wrap:wrap;\n",
              "      gap: 12px;\n",
              "    }\n",
              "\n",
              "    .colab-df-convert {\n",
              "      background-color: #E8F0FE;\n",
              "      border: none;\n",
              "      border-radius: 50%;\n",
              "      cursor: pointer;\n",
              "      display: none;\n",
              "      fill: #1967D2;\n",
              "      height: 32px;\n",
              "      padding: 0 0 0 0;\n",
              "      width: 32px;\n",
              "    }\n",
              "\n",
              "    .colab-df-convert:hover {\n",
              "      background-color: #E2EBFA;\n",
              "      box-shadow: 0px 1px 2px rgba(60, 64, 67, 0.3), 0px 1px 3px 1px rgba(60, 64, 67, 0.15);\n",
              "      fill: #174EA6;\n",
              "    }\n",
              "\n",
              "    [theme=dark] .colab-df-convert {\n",
              "      background-color: #3B4455;\n",
              "      fill: #D2E3FC;\n",
              "    }\n",
              "\n",
              "    [theme=dark] .colab-df-convert:hover {\n",
              "      background-color: #434B5C;\n",
              "      box-shadow: 0px 1px 3px 1px rgba(0, 0, 0, 0.15);\n",
              "      filter: drop-shadow(0px 1px 2px rgba(0, 0, 0, 0.3));\n",
              "      fill: #FFFFFF;\n",
              "    }\n",
              "  </style>\n",
              "\n",
              "      <script>\n",
              "        const buttonEl =\n",
              "          document.querySelector('#df-2bee2c24-4f82-4ff4-86e5-23d0fe9bb057 button.colab-df-convert');\n",
              "        buttonEl.style.display =\n",
              "          google.colab.kernel.accessAllowed ? 'block' : 'none';\n",
              "\n",
              "        async function convertToInteractive(key) {\n",
              "          const element = document.querySelector('#df-2bee2c24-4f82-4ff4-86e5-23d0fe9bb057');\n",
              "          const dataTable =\n",
              "            await google.colab.kernel.invokeFunction('convertToInteractive',\n",
              "                                                     [key], {});\n",
              "          if (!dataTable) return;\n",
              "\n",
              "          const docLinkHtml = 'Like what you see? Visit the ' +\n",
              "            '<a target=\"_blank\" href=https://colab.research.google.com/notebooks/data_table.ipynb>data table notebook</a>'\n",
              "            + ' to learn more about interactive tables.';\n",
              "          element.innerHTML = '';\n",
              "          dataTable['output_type'] = 'display_data';\n",
              "          await google.colab.output.renderOutput(dataTable, element);\n",
              "          const docLink = document.createElement('div');\n",
              "          docLink.innerHTML = docLinkHtml;\n",
              "          element.appendChild(docLink);\n",
              "        }\n",
              "      </script>\n",
              "    </div>\n",
              "  </div>\n",
              "  "
            ]
          },
          "metadata": {},
          "execution_count": 11
        }
      ]
    },
    {
      "cell_type": "markdown",
      "source": [
        "**1**"
      ],
      "metadata": {
        "id": "6MybLSZxOjFP"
      }
    },
    {
      "cell_type": "code",
      "source": [
        "from sklearn.model_selection import train_test_split\n",
        "X_train, X_test, y_train, y_test = train_test_split(features_df, target_df,test_size=0.2, random_state=42)"
      ],
      "metadata": {
        "id": "6D0orOkWM0Bw"
      },
      "execution_count": 12,
      "outputs": []
    },
    {
      "cell_type": "code",
      "source": [
        "print(X_train)"
      ],
      "metadata": {
        "colab": {
          "base_uri": "https://localhost:8080/"
        },
        "id": "0QYwIYFg8Rvm",
        "outputId": "51bb7ffc-01ef-43c3-9c79-0039995bab30"
      },
      "execution_count": 13,
      "outputs": [
        {
          "output_type": "stream",
          "name": "stdout",
          "text": [
            "     deg-malig  age_20-29  age_30-39  age_40-49  age_50-59  age_60-69  \\\n",
            "258          3          0          1          0          0          0   \n",
            "232          2          0          0          0          0          1   \n",
            "33           1          0          0          0          1          0   \n",
            "157          1          0          0          1          0          0   \n",
            "148          3          0          0          0          1          0   \n",
            "..         ...        ...        ...        ...        ...        ...   \n",
            "188          2          0          0          0          1          0   \n",
            "71           2          0          0          0          0          1   \n",
            "106          2          0          1          0          0          0   \n",
            "270          3          0          0          0          1          0   \n",
            "102          2          0          0          1          0          0   \n",
            "\n",
            "     age_70-79  menopause_ge40  menopause_lt40  menopause_premeno  ...  \\\n",
            "258          0               0               0                  1  ...   \n",
            "232          0               1               0                  0  ...   \n",
            "33           0               1               0                  0  ...   \n",
            "157          0               0               0                  1  ...   \n",
            "148          0               1               0                  0  ...   \n",
            "..         ...             ...             ...                ...  ...   \n",
            "188          0               0               0                  1  ...   \n",
            "71           0               1               0                  0  ...   \n",
            "106          0               0               0                  1  ...   \n",
            "270          0               1               0                  0  ...   \n",
            "102          0               0               0                  1  ...   \n",
            "\n",
            "     node-caps_yes   breast_left   breast_right  breast-quad_central  \\\n",
            "258              0             1              0                    0   \n",
            "232              0             1              0                    0   \n",
            "33               0             1              0                    0   \n",
            "157              0             1              0                    0   \n",
            "148              1             0              1                    0   \n",
            "..             ...           ...            ...                  ...   \n",
            "188              1             0              1                    0   \n",
            "71               0             1              0                    0   \n",
            "106              0             0              1                    0   \n",
            "270              1             1              0                    0   \n",
            "102              0             1              0                    0   \n",
            "\n",
            "     breast-quad_left_low  breast-quad_left_up  breast-quad_right_low  \\\n",
            "258                     1                    0                      0   \n",
            "232                     1                    0                      0   \n",
            "33                      0                    1                      0   \n",
            "157                     1                    0                      0   \n",
            "148                     0                    1                      0   \n",
            "..                    ...                  ...                    ...   \n",
            "188                     0                    1                      0   \n",
            "71                      0                    1                      0   \n",
            "106                     0                    0                      0   \n",
            "270                     1                    0                      0   \n",
            "102                     0                    0                      1   \n",
            "\n",
            "     breast-quad_right_up   irradiat_no   irradiat_yes  \n",
            "258                     0             1              0  \n",
            "232                     0             0              1  \n",
            "33                      0             1              0  \n",
            "157                     0             1              0  \n",
            "148                     0             1              0  \n",
            "..                    ...           ...            ...  \n",
            "188                     0             0              1  \n",
            "71                      0             1              0  \n",
            "106                     1             1              0  \n",
            "270                     0             0              1  \n",
            "102                     0             1              0  \n",
            "\n",
            "[220 rows x 39 columns]\n"
          ]
        }
      ]
    },
    {
      "cell_type": "markdown",
      "source": [
        "**2**"
      ],
      "metadata": {
        "id": "LqwgHI6DOna_"
      }
    },
    {
      "cell_type": "code",
      "source": [
        "from sklearn.metrics import accuracy_score\n",
        "from sklearn.naive_bayes import GaussianNB\n",
        "from sklearn.metrics import accuracy_score, confusion_matrix, matthews_corrcoef\n",
        "\n",
        "\n",
        "clf = GaussianNB()\n",
        "clf.fit(X_train, y_train)\n",
        "\n",
        "# prediction on testing data\n",
        "predictions_clf = clf.predict(X_test)\n",
        "#  accuracy of the classifier\n",
        "accuracy_clf = accuracy_score (y_test, predictions_clf)\n",
        "print (\"Accuracy:\", accuracy_clf)\n",
        "\n",
        "# cofusion matrix \n",
        "cm = confusion_matrix(y_test, predictions_clf)\n",
        "print(\"Confusion Matrix\")\n",
        "print(cm)\n",
        "# Matthew's correlation Coefficient \n",
        "mcc = matthews_corrcoef(y_test, predictions_clf)\n",
        "print(\"Matthew Correlation Cofficient:\", mcc)"
      ],
      "metadata": {
        "colab": {
          "base_uri": "https://localhost:8080/"
        },
        "id": "szbUOQRQOf3v",
        "outputId": "797c9391-21c1-45c8-e6a1-51cd633ab3f7"
      },
      "execution_count": 19,
      "outputs": [
        {
          "output_type": "stream",
          "name": "stdout",
          "text": [
            "Accuracy: 0.4642857142857143\n",
            "Confusion Matrix\n",
            "[[11 29]\n",
            " [ 1 15]]\n",
            "Matthew Correlation Cofficient: 0.23395480008935163\n"
          ]
        }
      ]
    },
    {
      "cell_type": "code",
      "source": [
        "from sklearn.ensemble import RandomForestClassifier\n",
        "\n",
        "rfc=RandomForestClassifier()\n",
        "model = rfc.fit(X_train, y_train)\n",
        "prediction_rfc = model.predict(X_test)\n",
        "\n",
        "accuracy_rfc= accuracy_score(y_test, prediction_rfc)\n",
        "print (\"Accuracy:\", accuracy_rfc)\n"
      ],
      "metadata": {
        "colab": {
          "base_uri": "https://localhost:8080/"
        },
        "id": "NbwJtqNbRiiX",
        "outputId": "f6ecc84b-a5c3-4e0d-f2b8-761cd6af401f"
      },
      "execution_count": 15,
      "outputs": [
        {
          "output_type": "stream",
          "name": "stdout",
          "text": [
            "Accuracy: 0.7142857142857143\n"
          ]
        }
      ]
    },
    {
      "cell_type": "code",
      "source": [
        "from sklearn.ensemble import RandomForestClassifier\n",
        "from sklearn.metrics import accuracy_score, confusion_matrix, matthews_corrcoef\n",
        "\n",
        "rfc=RandomForestClassifier()\n",
        "model = rfc.fit(X_train, y_train)\n",
        "prediction_rfc = model.predict(X_test)\n",
        "\n",
        "accuracy_rfc= accuracy_score(y_test, prediction_rfc)\n",
        "print (\"Accuracy:\", accuracy_rfc)\n",
        "# cofusion matrix \n",
        "cm = confusion_matrix(y_test,prediction_rfc)\n",
        "print(\"Confusion Matrix\")\n",
        "print(cm)\n",
        "# Matthew's correlation Coefficient \n",
        "mcc = matthews_corrcoef(y_test, prediction_rfc)\n",
        "print(\"Matthew Correlation Cofficient:\", mcc)"
      ],
      "metadata": {
        "colab": {
          "base_uri": "https://localhost:8080/"
        },
        "id": "eMBnoSB-Xh1s",
        "outputId": "00aec16b-cd34-4aff-bbe8-911af67b632d"
      },
      "execution_count": 20,
      "outputs": [
        {
          "output_type": "stream",
          "name": "stdout",
          "text": [
            "Accuracy: 0.6964285714285714\n",
            "Confusion Matrix\n",
            "[[34  6]\n",
            " [11  5]]\n",
            "Matthew Correlation Cofficient: 0.1847739541748624\n"
          ]
        }
      ]
    },
    {
      "cell_type": "code",
      "source": [
        "from sklearn.svm import SVC\n",
        "from sklearn.metrics import accuracy_score, precision_score, recall_score, f1_score\n",
        "from sklearn.metrics import accuracy_score, confusion_matrix, matthews_corrcoef\n",
        "# Train the SVM classifie\n",
        "clf = SVC(kernel='linear', C=1)\n",
        "clf.fit(X_train, y_train)\n",
        "\n",
        "# Predict the labels for test data\n",
        "predicted_labels = clf.predict(X_test)\n",
        "\n",
        "accuracy_clf = accuracy_score (y_test, predicted_labels)\n",
        "print (\"Accuracy:\", accuracy_clf)\n",
        "# cofusion matrix \n",
        "cm = confusion_matrix(y_test, predicted_labels)\n",
        "print(\"Confusion Matrix\")\n",
        "print(cm)\n",
        "# Matthew's correlation Coefficient \n",
        "mcc = matthews_corrcoef(y_test, predicted_labels)\n",
        "print(\"Matthew Correlation Cofficient:\", mcc)\n",
        "\n"
      ],
      "metadata": {
        "colab": {
          "base_uri": "https://localhost:8080/"
        },
        "id": "q_T8bJ3p8Zg5",
        "outputId": "94ee672d-8968-41ee-d67a-cb19b56d6cc7"
      },
      "execution_count": 22,
      "outputs": [
        {
          "output_type": "stream",
          "name": "stdout",
          "text": [
            "Accuracy: 0.7678571428571429\n",
            "Confusion Matrix\n",
            "[[35  5]\n",
            " [ 8  8]]\n",
            "Matthew Correlation Cofficient: 0.40125028212920383\n"
          ]
        }
      ]
    },
    {
      "cell_type": "code",
      "source": [
        "# Logistic Regression"
      ],
      "metadata": {
        "id": "J4DCoQfHXc5z"
      },
      "execution_count": 23,
      "outputs": []
    },
    {
      "cell_type": "code",
      "source": [
        "from pandas.core.common import random_state\n",
        "from sklearn.linear_model import LogisticRegression\n",
        "from sklearn.metrics import accuracy_score\n",
        "LR = LogisticRegression()\n",
        "LR.fit(X_train,y_train)\n",
        "predicted_labels = LR.predict(X_test)\n",
        "accuracy_LR = accuracy_score(y_test, predicted_labels)\n",
        "print(\"Accuracy:\", accuracy_LR)\n",
        "\n",
        "#Matthew \n",
        "from sklearn.metrics import accuracy_score, confusion_matrix, matthews_corrcoef\n",
        "# cofusion matrix \n",
        "cm = confusion_matrix(y_test, predicted_labels)\n",
        "print(\"Confusion Matrix\")\n",
        "print(cm)\n",
        "# Matthew's correlation Coefficient \n",
        "mcc = matthews_corrcoef(y_test, predicted_labels)\n",
        "print(\"Matthew Correlation Cofficient:\", mcc)\n"
      ],
      "metadata": {
        "colab": {
          "base_uri": "https://localhost:8080/"
        },
        "id": "IxS8CRCdXgsp",
        "outputId": "d37558ae-6abc-4b9d-f6c4-9d4d165a985d"
      },
      "execution_count": 24,
      "outputs": [
        {
          "output_type": "stream",
          "name": "stdout",
          "text": [
            "Accuracy: 0.7678571428571429\n",
            "Confusion Matrix\n",
            "[[35  5]\n",
            " [ 8  8]]\n",
            "Matthew Correlation Cofficient: 0.40125028212920383\n"
          ]
        }
      ]
    },
    {
      "cell_type": "code",
      "source": [
        "#Knn"
      ],
      "metadata": {
        "id": "jiwiYheJXlBq"
      },
      "execution_count": 25,
      "outputs": []
    },
    {
      "cell_type": "code",
      "source": [
        "from sklearn.neighbors import KNeighborsClassifier\n",
        "from sklearn.metrics import accuracy_score\n",
        "knn = KNeighborsClassifier()\n",
        "knn.fit(X_train, y_train)\n",
        "predicted_labels = knn.predict(X_test)\n",
        "acc = accuracy_score (y_test, predicted_labels)\n",
        "print(\"accuracy:\", acc)\n",
        "#Matthew \n",
        "from sklearn.metrics import accuracy_score, confusion_matrix, matthews_corrcoef\n",
        "# cofusion matrix \n",
        "cm = confusion_matrix(y_test, predicted_labels)\n",
        "print(\"Confusion Matrix\")\n",
        "print(cm)\n",
        "# Matthew's correlation Coefficient \n",
        "mcc = matthews_corrcoef(y_test, predicted_labels)\n",
        "print(\"Matthew Correlation Cofficient:\", mcc)"
      ],
      "metadata": {
        "colab": {
          "base_uri": "https://localhost:8080/"
        },
        "id": "6uYSxmJjXo4O",
        "outputId": "774b2e8e-5810-44cb-ec68-6a085035c010"
      },
      "execution_count": 26,
      "outputs": [
        {
          "output_type": "stream",
          "name": "stdout",
          "text": [
            "accuracy: 0.7678571428571429\n",
            "Confusion Matrix\n",
            "[[36  4]\n",
            " [ 9  7]]\n",
            "Matthew Correlation Cofficient: 0.3837612894400988\n"
          ]
        }
      ]
    },
    {
      "cell_type": "markdown",
      "source": [
        "#Precision-Recall graphs"
      ],
      "metadata": {
        "id": "a9w5yj4BXtP6"
      }
    },
    {
      "cell_type": "code",
      "source": [
        "from sklearn import datasets\n",
        "from sklearn.model_selection import train_test_split\n",
        "from sklearn.linear_model import LogisticRegression\n",
        "from sklearn.metrics import precision_recall_curve\n",
        "import matplotlib.pyplot as plt"
      ],
      "metadata": {
        "id": "LyVhXRLzX7HC"
      },
      "execution_count": 28,
      "outputs": []
    },
    {
      "cell_type": "code",
      "source": [
        "X, y = datasets.make_classification(n_samples=1000,\n",
        "                                    n_features=4,\n",
        "                                    n_informative=3,\n",
        "                                    n_redundant=1,\n",
        "                                    random_state=0)\n",
        "classifier = LogisticRegression()\n",
        "classifier.fit(X, y)\n"
      ],
      "metadata": {
        "colab": {
          "base_uri": "https://localhost:8080/"
        },
        "id": "0DPt6ZdrYCTp",
        "outputId": "9a5548d1-e486-4ff2-e28e-d19f52729a79"
      },
      "execution_count": 29,
      "outputs": [
        {
          "output_type": "execute_result",
          "data": {
            "text/plain": [
              "LogisticRegression()"
            ]
          },
          "metadata": {},
          "execution_count": 29
        }
      ]
    },
    {
      "cell_type": "code",
      "source": [
        "y_score = classifier.predict_proba(X)[:, 1]\n"
      ],
      "metadata": {
        "id": "Tenl3VsNYHjj"
      },
      "execution_count": 30,
      "outputs": []
    },
    {
      "cell_type": "code",
      "source": [
        "precision, recall, thresholds = precision_recall_curve(y, y_score)\n"
      ],
      "metadata": {
        "id": "_Jm3AcENYN5V"
      },
      "execution_count": 31,
      "outputs": []
    },
    {
      "cell_type": "code",
      "source": [
        "fig, ax = plt.subplots()\n",
        "ax.plot(recall, precision, color='purple')\n",
        "\n",
        "#add axis labels to plot\n",
        "ax.set_title('Precision-Recall Curve')\n",
        "ax.set_ylabel('Precision')\n",
        "ax.set_xlabel('Recall')\n",
        "\n",
        "#display plot\n",
        "plt.show()"
      ],
      "metadata": {
        "colab": {
          "base_uri": "https://localhost:8080/",
          "height": 295
        },
        "id": "YdxjJPdgYR_a",
        "outputId": "49a37c33-f4f6-49f3-bc93-e4042b40275a"
      },
      "execution_count": 32,
      "outputs": [
        {
          "output_type": "display_data",
          "data": {
            "text/plain": [
              "<Figure size 432x288 with 1 Axes>"
            ],
            "image/png": "[encoded data removed]"
          },
          "metadata": {
            "needs_background": "light"
          }
        }
      ]
    },
    {
      "cell_type": "code",
      "source": [
        "# ROC"
      ],
      "metadata": {
        "id": "zqCeCO7iYWr4"
      },
      "execution_count": 33,
      "outputs": []
    },
    {
      "cell_type": "code",
      "source": [
        "from sklearn.datasets import make_classification\n",
        "import numpy as np "
      ],
      "metadata": {
        "id": "Dic1uHR9Ya_C"
      },
      "execution_count": 34,
      "outputs": []
    },
    {
      "cell_type": "code",
      "source": [
        "X, Y = make_classification(n_samples=2000, n_classes=2, n_features=10, random_state=0)\n"
      ],
      "metadata": {
        "id": "lc51ATbWYfA7"
      },
      "execution_count": 35,
      "outputs": []
    },
    {
      "cell_type": "code",
      "source": [
        "random_state = np.random.RandomState(0)\n",
        "n_samples, n_features = X.shape\n",
        "X = np.c_[X, random_state.randn(n_samples, 200 * n_features)]\n",
        "     "
      ],
      "metadata": {
        "id": "DzdhcsrCYicj"
      },
      "execution_count": 36,
      "outputs": []
    },
    {
      "cell_type": "code",
      "source": [
        "from sklearn.ensemble import RandomForestClassifier\n",
        "from sklearn.naive_bayes import GaussianNB"
      ],
      "metadata": {
        "id": "kI2_cxg4YnNn"
      },
      "execution_count": 37,
      "outputs": []
    },
    {
      "cell_type": "code",
      "source": [
        "rf = RandomForestClassifier(max_features=5, n_estimators=50)\n",
        "rf.fit(X_test,y_test)\n",
        "     "
      ],
      "metadata": {
        "colab": {
          "base_uri": "https://localhost:8080/"
        },
        "id": "6uw5vu_OYqPW",
        "outputId": "6b791a7d-1e25-4d65-9718-b39c3cd3db20"
      },
      "execution_count": 39,
      "outputs": [
        {
          "output_type": "execute_result",
          "data": {
            "text/plain": [
              "RandomForestClassifier(max_features=5, n_estimators=50)"
            ]
          },
          "metadata": {},
          "execution_count": 39
        }
      ]
    }
  ]
}